{
  "nbformat": 4,
  "nbformat_minor": 0,
  "metadata": {
    "colab": {
      "name": "HW_neural_network_7.ipynb",
      "provenance": [],
      "collapsed_sections": [],
      "authorship_tag": "ABX9TyNdNP6Sj0ZOhhwEhoZFPkNU"
    },
    "kernelspec": {
      "name": "python3",
      "display_name": "Python 3"
    },
    "language_info": {
      "name": "python"
    }
  },
  "cells": [
    {
      "cell_type": "markdown",
      "source": [
        "Сделайте краткий обзор любой архитектуры для object detection. Проведите анализ: чем отличается выбранная вами архитектура нейронной сети от других? В чём плюсы и минусы данной архитектуры? Какие могут возникнуть трудности при применении этой архитектуры на практике?"
      ],
      "metadata": {
        "id": "MRB4Y0mzmFUB"
      }
    },
    {
      "cell_type": "markdown",
      "source": [
        "YOLO на вход подается картинка, дальше создаются feature maps с помощью CNN, затем эти feature maps определенным образом анализируются, выдавая на выходе позиции и размеры bounding boxes и классы, которым они принадлежат. \n",
        "\n",
        "По сравнению с другими моделями YOLO \"смотрит\" на картинку полностью и наиболее быстрая. "
      ],
      "metadata": {
        "id": "uNN7SNFQOEYv"
      }
    },
    {
      "cell_type": "code",
      "source": [],
      "metadata": {
        "id": "uzVKmnmMV7WO"
      },
      "execution_count": null,
      "outputs": []
    }
  ]
}