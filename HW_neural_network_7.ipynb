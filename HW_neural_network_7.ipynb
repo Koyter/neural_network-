{
  "nbformat": 4,
  "nbformat_minor": 0,
  "metadata": {
    "colab": {
      "name": "HW_neural_network_7.ipynb",
      "provenance": [],
      "authorship_tag": "ABX9TyNcyo2JNPPFn8J3ElEz7Gja"
    },
    "kernelspec": {
      "name": "python3",
      "display_name": "Python 3"
    },
    "language_info": {
      "name": "python"
    }
  },
  "cells": [
    {
      "cell_type": "code",
      "execution_count": null,
      "metadata": {
        "id": "irC-2xv5lpQa"
      },
      "outputs": [],
      "source": []
    },
    {
      "cell_type": "markdown",
      "source": [
        "Заглушка"
      ],
      "metadata": {
        "id": "MRB4Y0mzmFUB"
      }
    },
    {
      "cell_type": "code",
      "source": [],
      "metadata": {
        "id": "z0Iauq1xmD7F"
      },
      "execution_count": null,
      "outputs": []
    }
  ]
}